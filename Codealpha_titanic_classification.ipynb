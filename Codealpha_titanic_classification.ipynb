{
  "nbformat": 4,
  "nbformat_minor": 0,
  "metadata": {
    "colab": {
      "private_outputs": true,
      "provenance": []
    },
    "kernelspec": {
      "name": "python3",
      "display_name": "Python 3"
    },
    "language_info": {
      "name": "python"
    }
  },
  "cells": [
    {
      "cell_type": "code",
      "execution_count": null,
      "metadata": {
        "id": "ypcSSrEcolpy"
      },
      "outputs": [],
      "source": [
        "import pandas as pd\n",
        "import seaborn as sns\n",
        "import matplotlib.pyplot as plt\n",
        "from sklearn.model_selection import train_test_split, GridSearchCV\n",
        "from sklearn.ensemble import RandomForestClassifier\n",
        "from sklearn.linear_model import LogisticRegression\n",
        "from sklearn.svm import SVC\n",
        "from sklearn.metrics import accuracy_score, confusion_matrix, classification_report\n",
        "from sklearn.preprocessing import StandardScaler"
      ]
    },
    {
      "cell_type": "code",
      "source": [
        "df = pd.read_excel('/content/Titanic_dataset.xlsx')"
      ],
      "metadata": {
        "id": "S7g87yQiryJx"
      },
      "execution_count": null,
      "outputs": []
    },
    {
      "cell_type": "code",
      "source": [
        "print(df.head())"
      ],
      "metadata": {
        "id": "KWNLnurasALi"
      },
      "execution_count": null,
      "outputs": []
    },
    {
      "cell_type": "code",
      "source": [
        "print(df.shape)"
      ],
      "metadata": {
        "id": "cU45_PZosEno"
      },
      "execution_count": null,
      "outputs": []
    },
    {
      "cell_type": "code",
      "source": [
        "print(df.info())"
      ],
      "metadata": {
        "id": "mQHkH7z7sHfg"
      },
      "execution_count": null,
      "outputs": []
    },
    {
      "cell_type": "code",
      "source": [
        "print(df.describe())"
      ],
      "metadata": {
        "id": "0IliyVw0sXeS"
      },
      "execution_count": null,
      "outputs": []
    },
    {
      "cell_type": "code",
      "source": [
        "print(df.isnull().sum())"
      ],
      "metadata": {
        "id": "coC-a3jDsd9Y"
      },
      "execution_count": null,
      "outputs": []
    },
    {
      "cell_type": "code",
      "source": [
        "print(df.columns)"
      ],
      "metadata": {
        "id": "YGojLTLksipE"
      },
      "execution_count": null,
      "outputs": []
    },
    {
      "cell_type": "code",
      "source": [
        "df.drop(columns=['name', 'ticket', 'cabin', 'boat', 'body', 'home.dest'], inplace=True)"
      ],
      "metadata": {
        "id": "PzCDJYWNtET7"
      },
      "execution_count": null,
      "outputs": []
    },
    {
      "cell_type": "code",
      "source": [
        "df['age'].fillna(df['age'].median(), inplace=True)\n",
        "df['embarked'].fillna(df['embarked'].mode()[0], inplace=True)\n",
        "df['fare'].fillna(df['fare'].median(), inplace=True)\n",
        "df = pd.get_dummies(df, columns=['sex', 'embarked'], drop_first=True)\n",
        "df['family_size'] = df['sibsp'] + df['parch'] + 1\n",
        "df['is_alone'] = (df['family_size'] == 1).astype(int)\n",
        "df['fare_per_person'] = df['fare'] / df['family_size']\n",
        "print(df.isnull().sum())"
      ],
      "metadata": {
        "id": "b8aoS8fItFW4"
      },
      "execution_count": null,
      "outputs": []
    },
    {
      "cell_type": "code",
      "source": [
        "X = df.drop(columns=['survived'])\n",
        "y = df['survived']"
      ],
      "metadata": {
        "id": "MhQYnApatrxV"
      },
      "execution_count": null,
      "outputs": []
    },
    {
      "cell_type": "code",
      "source": [
        "scaler = StandardScaler()\n",
        "X_scaled = scaler.fit_transform(X)\n",
        "X_train, X_test, y_train, y_test = train_test_split(X_scaled, y, test_size=0.2, random_state=42)\n",
        "rf_model = RandomForestClassifier(n_estimators=100, random_state=42)\n",
        "rf_model.fit(X_train, y_train)\n",
        "y_pred_rf = rf_model.predict(X_test)\n",
        "print(f'Random Forest Accuracy: {accuracy_score(y_test, y_pred_rf)}')\n",
        "print(f'Random Forest Confusion Matrix:\\n {confusion_matrix(y_test, y_pred_rf)}')\n",
        "print(f'Random Forest Classification Report:\\n {classification_report(y_test, y_pred_rf)}')"
      ],
      "metadata": {
        "id": "Pu-XtQoptycC"
      },
      "execution_count": null,
      "outputs": []
    },
    {
      "cell_type": "code",
      "source": [
        "rf_importances = pd.Series(rf_model.feature_importances_, index=X.columns).sort_values(ascending=False)\n",
        "plt.figure(figsize=(10, 6))\n",
        "sns.barplot(x=rf_importances, y=rf_importances.index)\n",
        "plt.title('Random Forest Feature Importances')\n",
        "plt.show()"
      ],
      "metadata": {
        "id": "p9BGwuT4ucUS"
      },
      "execution_count": null,
      "outputs": []
    },
    {
      "cell_type": "code",
      "source": [
        "lr_model = LogisticRegression(random_state=42, max_iter=1000)\n",
        "lr_model.fit(X_train, y_train)\n",
        "y_pred_lr = lr_model.predict(X_test)\n",
        "print(f'Logistic Regression Accuracy: {accuracy_score(y_test, y_pred_lr)}')\n",
        "print(f'Logistic Regression Confusion Matrix:\\n {confusion_matrix(y_test, y_pred_lr)}')\n",
        "print(f'Logistic Regression Classification Report:\\n {classification_report(y_test, y_pred_lr)}')"
      ],
      "metadata": {
        "id": "gGsX3hUIujyG"
      },
      "execution_count": null,
      "outputs": []
    },
    {
      "cell_type": "code",
      "source": [
        "lr_importances = pd.Series(lr_model.coef_[0], index=X.columns).sort_values(ascending=False)\n",
        "plt.figure(figsize=(10, 6))\n",
        "sns.barplot(x=lr_importances, y=lr_importances.index)\n",
        "plt.title('Logistic Regression Feature Importances')\n",
        "plt.show()"
      ],
      "metadata": {
        "id": "VaP4rNmquswX"
      },
      "execution_count": null,
      "outputs": []
    },
    {
      "cell_type": "code",
      "source": [
        "svm_model = SVC(kernel='linear', random_state=42)\n",
        "svm_model.fit(X_train, y_train)"
      ],
      "metadata": {
        "id": "ekYS5Lqmu18P"
      },
      "execution_count": null,
      "outputs": []
    },
    {
      "cell_type": "code",
      "source": [
        "y_pred_svm = svm_model.predict(X_test)\n",
        "print(f'SVM Accuracy: {accuracy_score(y_test, y_pred_svm)}')\n",
        "print(f'SVM Confusion Matrix:\\n {confusion_matrix(y_test, y_pred_svm)}')\n",
        "print(f'SVM Classification Report:\\n {classification_report(y_test, y_pred_svm)}')"
      ],
      "metadata": {
        "id": "1R_AEt5hu3KL"
      },
      "execution_count": null,
      "outputs": []
    },
    {
      "cell_type": "code",
      "source": [
        "svm_importances = pd.Series(svm_model.coef_[0], index=X.columns).sort_values(ascending=False)\n",
        "plt.figure(figsize=(10, 6))\n",
        "sns.barplot(x=svm_importances, y=svm_importances.index)\n",
        "plt.title('SVM Feature Importances')\n",
        "plt.show()"
      ],
      "metadata": {
        "id": "3RBhyJeXu7Bd"
      },
      "execution_count": null,
      "outputs": []
    }
  ]
}